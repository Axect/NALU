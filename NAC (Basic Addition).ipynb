{
 "cells": [
  {
   "cell_type": "code",
   "execution_count": 1,
   "id": "1dd2d4d5",
   "metadata": {},
   "outputs": [],
   "source": [
    "import torch\n",
    "from torch import nn, optim\n",
    "from torch.nn.parameter import Parameter\n",
    "from torch.utils.data import Dataset, DataLoader, random_split\n",
    "import torch.nn.functional as F\n",
    "from torch.distributions import Uniform\n",
    "# from torch.optim.lr_scheduler import ReduceLROnPlateau, ExponentialLR, OneCycleLR\n",
    "\n",
    "import pytorch_lightning as pl\n",
    "from pytorch_lightning import Trainer\n",
    "# from pytorch_lightning.callbacks.early_stopping import EarlyStopping\n",
    "# from pytorch_lightning.callbacks import LearningRateMonitor\n",
    "from pytorch_lightning.loggers import WandbLogger\n",
    "\n",
    "import torchmetrics\n",
    "\n",
    "import numpy as np\n",
    "import matplotlib.pyplot as plt\n",
    "import random\n",
    "\n",
    "import wandb\n",
    "\n",
    "PATH_DATASETS = \".\"\n",
    "AVAIL_GPUS = min(1, torch.cuda.device_count())\n",
    "BATCH_SIZE = 512 if AVAIL_GPUS else 64\n",
    "# BATCH_SIZE=1"
   ]
  },
  {
   "cell_type": "code",
   "execution_count": 2,
   "id": "9e1d5260",
   "metadata": {},
   "outputs": [
    {
     "name": "stderr",
     "output_type": "stream",
     "text": [
      "Global seed set to 125\n"
     ]
    },
    {
     "data": {
      "text/plain": [
       "125"
      ]
     },
     "execution_count": 2,
     "metadata": {},
     "output_type": "execute_result"
    }
   ],
   "source": [
    "pl.seed_everything(125)"
   ]
  },
  {
   "cell_type": "code",
   "execution_count": 3,
   "id": "78379233",
   "metadata": {},
   "outputs": [],
   "source": [
    "NORMALIZE = True\n",
    "NUM_LAYERS = 2\n",
    "HIDDEN_DIM = 2\n",
    "LEARNING_RATE = 1e-2\n",
    "NUM_ITERS = int(1e5)\n",
    "RANGE = [5, 10]\n",
    "ARITHMETIC_FUNCTIONS = {\n",
    "    'add': lambda x, y: x + y,\n",
    "    'sub': lambda x, y: x - y,\n",
    "    'mul': lambda x, y: x * y,\n",
    "    'div': lambda x, y: x / y,\n",
    "    'squared': lambda x, y: torch.pow(x, 2),\n",
    "    'root': lambda x, y: torch.sqrt(x),\n",
    "}"
   ]
  },
  {
   "cell_type": "markdown",
   "id": "7d54e0b9",
   "metadata": {},
   "source": [
    "## Generate Data"
   ]
  },
  {
   "cell_type": "code",
   "execution_count": 4,
   "id": "0ddb8c8a",
   "metadata": {},
   "outputs": [],
   "source": [
    "def generate_data(num_train, num_test, dim, num_sum, fn, support):\n",
    "    data = torch.FloatTensor(dim).uniform_(*support).unsqueeze_(1)\n",
    "    X, y = [], []\n",
    "    for i in range(num_train + num_test):\n",
    "        idx_a = random.sample(range(dim), num_sum)\n",
    "        idx_b = random.sample([x for x in range(dim) if x not in idx_a], num_sum)\n",
    "        a, b = data[idx_a].sum(), data[idx_b].sum()\n",
    "        X.append([a, b])\n",
    "        y.append(fn(a, b))\n",
    "    X = torch.FloatTensor(X)\n",
    "    y = torch.FloatTensor(y).unsqueeze_(1)\n",
    "    indices = list(range(num_train + num_test))\n",
    "    np.random.shuffle(indices)\n",
    "    X_train, y_train = X[indices[num_test:]], y[indices[num_test:]]\n",
    "    X_test, y_test = X[indices[:num_test]], y[indices[:num_test]]\n",
    "    return X_train, y_train, X_test, y_test"
   ]
  },
  {
   "cell_type": "code",
   "execution_count": 5,
   "id": "d57a8d3c",
   "metadata": {},
   "outputs": [],
   "source": [
    "class DataWrapper(Dataset):\n",
    "    def __init__(self, X, y):\n",
    "        self.X = X\n",
    "        self.y = y\n",
    "        \n",
    "    def __len__(self):\n",
    "        return self.X.shape[0]\n",
    "    \n",
    "    def __getitem__(self, idx):\n",
    "        return self.X[idx], self.y[idx]"
   ]
  },
  {
   "cell_type": "code",
   "execution_count": 6,
   "id": "7f0654e4",
   "metadata": {},
   "outputs": [],
   "source": [
    "X_train, y_train, X_val, y_val = generate_data(100, 10, 100, 5, lambda x, y: x + y, RANGE)\n",
    "ds_train = DataWrapper(X_train, y_train)"
   ]
  },
  {
   "cell_type": "code",
   "execution_count": 7,
   "id": "7b364aee",
   "metadata": {},
   "outputs": [
    {
     "data": {
      "text/plain": [
       "(tensor([40.0543, 35.0587]), tensor([75.1130]))"
      ]
     },
     "execution_count": 7,
     "metadata": {},
     "output_type": "execute_result"
    }
   ],
   "source": [
    "ds_train[3]"
   ]
  },
  {
   "cell_type": "code",
   "execution_count": 8,
   "id": "f1c107de",
   "metadata": {},
   "outputs": [
    {
     "data": {
      "text/plain": [
       "100"
      ]
     },
     "execution_count": 8,
     "metadata": {},
     "output_type": "execute_result"
    }
   ],
   "source": [
    "len(ds_train)"
   ]
  },
  {
   "cell_type": "markdown",
   "id": "f7c1a079",
   "metadata": {},
   "source": [
    "## Network Setup"
   ]
  },
  {
   "cell_type": "code",
   "execution_count": 9,
   "id": "c9f5f0f3",
   "metadata": {},
   "outputs": [],
   "source": [
    "class NAC(pl.LightningModule):\n",
    "    def __init__(self, n_in, n_out):\n",
    "        super().__init__()\n",
    "        self.W_hat = Parameter(torch.Tensor(n_out, n_in))\n",
    "        self.M_hat = Parameter(torch.Tensor(n_out, n_in))\n",
    "        self.reset_parameters()\n",
    "        \n",
    "    def reset_parameters(self):\n",
    "        nn.init.kaiming_uniform_(self.W_hat)\n",
    "        nn.init.kaiming_uniform_(self.M_hat)\n",
    "    \n",
    "    def forward(self, x):\n",
    "        weights = torch.tanh(self.W_hat) * torch.sigmoid(self.M_hat)\n",
    "        return F.linear(x, weights)\n",
    "    \n",
    "    def training_step(self, batch, batch_idx):\n",
    "        X, y = batch\n",
    "        \n",
    "        out = self(X)\n",
    "        loss = F.mse_loss(out, y)\n",
    "        mea = torch.mean(torch.abs(y - out))\n",
    "        self.log('train_loss', loss)\n",
    "        self.log('train_mea', mea)\n",
    "        \n",
    "        return loss\n",
    "    \n",
    "    def validation_step(self, batch, batch_idx):\n",
    "        X, y = batch\n",
    "        \n",
    "        out = self(X)\n",
    "        loss = F.mse_loss(out, y)\n",
    "        mea = torch.mean(torch.abs(y - out))\n",
    "        self.log('val_loss', loss)\n",
    "        self.log('val_mea', mea)\n",
    "        \n",
    "        return loss\n",
    "    \n",
    "    def configure_optimizers(self):\n",
    "        optimizer = optim.RMSprop(self.parameters(), lr=LEARNING_RATE)\n",
    "        return optimizer\n",
    "    \n",
    "    def prepare_data(self):\n",
    "        X_train, y_train, X_val, y_val = generate_data(\n",
    "            500, \n",
    "            50, \n",
    "            100, \n",
    "            5,\n",
    "            lambda x, y: x + y,\n",
    "            RANGE\n",
    "        )\n",
    "        self.X_train = X_train\n",
    "        self.y_train = y_train\n",
    "        self.X_val = X_val\n",
    "        self.y_val = y_val\n",
    "        \n",
    "    def setup(self, stage=None):\n",
    "        if stage == \"fit\" or stage is None:\n",
    "            self.ds_train = DataWrapper(self.X_train, self.y_train)\n",
    "            self.ds_val = DataWrapper(self.X_val, self.y_val)\n",
    "        if stage == \"test\" or stage is None:\n",
    "            self.ds_test = DataWrapper(self.X_val, self.y_val)\n",
    "        \n",
    "    def train_dataloader(self):\n",
    "        return DataLoader(self.ds_train, batch_size=1)\n",
    "    \n",
    "    def val_dataloader(self):\n",
    "        return DataLoader(self.ds_val, batch_size=1)"
   ]
  },
  {
   "cell_type": "code",
   "execution_count": 10,
   "id": "4a987fb9",
   "metadata": {},
   "outputs": [
    {
     "name": "stderr",
     "output_type": "stream",
     "text": [
      "GPU available: True, used: True\n",
      "TPU available: False, using: 0 TPU cores\n",
      "IPU available: False, using: 0 IPUs\n"
     ]
    }
   ],
   "source": [
    "model = NAC(\n",
    "    n_in=2,\n",
    "    n_out=1\n",
    ")\n",
    "\n",
    "wandb_logger = WandbLogger(\n",
    "    project='NALU_Test'\n",
    ")\n",
    "\n",
    "trainer = Trainer(\n",
    "    logger=wandb_logger,\n",
    "    max_epochs=100,\n",
    "    gpus=AVAIL_GPUS,\n",
    "    enable_progress_bar=False,\n",
    ")"
   ]
  },
  {
   "cell_type": "code",
   "execution_count": 11,
   "id": "d6164da7",
   "metadata": {},
   "outputs": [
    {
     "data": {
      "text/plain": [
       "NAC()"
      ]
     },
     "execution_count": 11,
     "metadata": {},
     "output_type": "execute_result"
    }
   ],
   "source": [
    "model"
   ]
  },
  {
   "cell_type": "code",
   "execution_count": 12,
   "id": "ddaabe4c",
   "metadata": {},
   "outputs": [
    {
     "name": "stderr",
     "output_type": "stream",
     "text": [
      "LOCAL_RANK: 0 - CUDA_VISIBLE_DEVICES: [0]\n",
      "\n",
      "  | Name | Type | Params\n",
      "------------------------------\n",
      "------------------------------\n",
      "4         Trainable params\n",
      "0         Non-trainable params\n",
      "4         Total params\n",
      "0.000     Total estimated model params size (MB)\n",
      "/home/xteca/anaconda3/lib/python3.9/site-packages/pytorch_lightning/trainer/data_loading.py:132: UserWarning: The dataloader, val_dataloader 0, does not have many workers which may be a bottleneck. Consider increasing the value of the `num_workers` argument` (try 12 which is the number of cpus on this machine) in the `DataLoader` init to improve performance.\n",
      "  rank_zero_warn(\n",
      "Global seed set to 125\n",
      "/home/xteca/anaconda3/lib/python3.9/site-packages/pytorch_lightning/trainer/data_loading.py:132: UserWarning: The dataloader, train_dataloader, does not have many workers which may be a bottleneck. Consider increasing the value of the `num_workers` argument` (try 12 which is the number of cpus on this machine) in the `DataLoader` init to improve performance.\n",
      "  rank_zero_warn(\n",
      "\u001b[34m\u001b[1mwandb\u001b[0m: Currently logged in as: \u001b[33maxect\u001b[0m (use `wandb login --relogin` to force relogin)\n",
      "\u001b[34m\u001b[1mwandb\u001b[0m: wandb version 0.12.14 is available!  To upgrade, please run:\n",
      "\u001b[34m\u001b[1mwandb\u001b[0m:  $ pip install wandb --upgrade\n"
     ]
    },
    {
     "data": {
      "text/html": [
       "\n",
       "                    Syncing run <strong><a href=\"https://wandb.ai/axect/NALU_Test/runs/24kg06hu\" target=\"_blank\">fragrant-spaceship-2</a></strong> to <a href=\"https://wandb.ai/axect/NALU_Test\" target=\"_blank\">Weights & Biases</a> (<a href=\"https://docs.wandb.com/integrations/jupyter.html\" target=\"_blank\">docs</a>).<br/>\n",
       "\n",
       "                "
      ],
      "text/plain": [
       "<IPython.core.display.HTML object>"
      ]
     },
     "metadata": {},
     "output_type": "display_data"
    }
   ],
   "source": [
    "trainer.fit(model)"
   ]
  },
  {
   "cell_type": "code",
   "execution_count": 13,
   "id": "957078fd",
   "metadata": {},
   "outputs": [
    {
     "data": {
      "text/html": [
       "<br/>Waiting for W&B process to finish, PID 31987... <strong style=\"color:green\">(success).</strong>"
      ],
      "text/plain": [
       "<IPython.core.display.HTML object>"
      ]
     },
     "metadata": {},
     "output_type": "display_data"
    },
    {
     "data": {
      "application/vnd.jupyter.widget-view+json": {
       "model_id": "",
       "version_major": 2,
       "version_minor": 0
      },
      "text/plain": [
       "VBox(children=(Label(value=' 0.00MB of 0.00MB uploaded (0.00MB deduped)\\r'), FloatProgress(value=1.0, max=1.0)…"
      ]
     },
     "metadata": {},
     "output_type": "display_data"
    },
    {
     "data": {
      "text/html": [
       "<style>\n",
       "    table.wandb td:nth-child(1) { padding: 0 10px; text-align: right }\n",
       "    .wandb-row { display: flex; flex-direction: row; flex-wrap: wrap; width: 100% }\n",
       "    .wandb-col { display: flex; flex-direction: column; flex-basis: 100%; flex: 1; padding: 10px; }\n",
       "    </style>\n",
       "<div class=\"wandb-row\"><div class=\"wandb-col\">\n",
       "<h3>Run history:</h3><br/><table class=\"wandb\"><tr><td>epoch</td><td>▁▁▁▂▂▂▂▂▂▃▃▃▃▃▄▄▄▄▄▄▅▅▅▅▅▅▆▆▆▆▆▇▇▇▇▇▇███</td></tr><tr><td>train_loss</td><td>█▁▁▁▁▁▁▁▁▁▁▁▁▁▁▁▁▁▁▁▁▁▁▁▁▁▁▁▁▁▁▁▁▁▁▁▁▁▁▁</td></tr><tr><td>train_mea</td><td>█▁▁▁▁▁▁▁▁▁▁▁▁▁▁▁▁▁▁▁▁▁▁▁▁▁▁▁▁▁▁▁▁▁▁▁▁▁▁▁</td></tr><tr><td>trainer/global_step</td><td>▁▁▁▂▂▂▂▂▂▃▃▃▃▃▄▄▄▄▄▄▅▅▅▅▅▅▆▆▆▆▆▇▇▇▇▇▇███</td></tr><tr><td>val_loss</td><td>█▁▁▁▁▁▁▁▁▁▁▁▁▁▁▁▁▁▁▁▁▁▁▁▁▁▁▁▁▁▁▁▁▁▁▁▁▁▁▁</td></tr><tr><td>val_mea</td><td>█▂▁▁▁▁▁▁▁▁▁▁▁▁▁▁▁▁▁▁▁▁▁▁▁▁▁▁▁▁▁▁▁▁▁▁▁▁▁▁</td></tr></table><br/></div><div class=\"wandb-col\">\n",
       "<h3>Run summary:</h3><br/><table class=\"wandb\"><tr><td>epoch</td><td>99</td></tr><tr><td>train_loss</td><td>0.0</td></tr><tr><td>train_mea</td><td>0.0</td></tr><tr><td>trainer/global_step</td><td>49999</td></tr><tr><td>val_loss</td><td>0.0</td></tr><tr><td>val_mea</td><td>0.0</td></tr></table>\n",
       "</div></div>\n",
       "Synced 4 W&B file(s), 0 media file(s), 0 artifact file(s) and 0 other file(s)\n",
       "<br/>Synced <strong style=\"color:#cdcd00\">fragrant-spaceship-2</strong>: <a href=\"https://wandb.ai/axect/NALU_Test/runs/24kg06hu\" target=\"_blank\">https://wandb.ai/axect/NALU_Test/runs/24kg06hu</a><br/>\n",
       "Find logs at: <code>./wandb/run-20220414_185821-24kg06hu/logs</code><br/>\n"
      ],
      "text/plain": [
       "<IPython.core.display.HTML object>"
      ]
     },
     "metadata": {},
     "output_type": "display_data"
    }
   ],
   "source": [
    "wandb.finish()"
   ]
  },
  {
   "cell_type": "code",
   "execution_count": 14,
   "id": "be60ff8a",
   "metadata": {},
   "outputs": [],
   "source": [
    "X_0, y_0 = ds_train[0:10]"
   ]
  },
  {
   "cell_type": "code",
   "execution_count": 15,
   "id": "650b353c",
   "metadata": {},
   "outputs": [
    {
     "data": {
      "text/plain": [
       "tensor([[37.8622, 40.9403],\n",
       "        [42.4239, 40.7112],\n",
       "        [38.4500, 39.7999],\n",
       "        [40.0543, 35.0587],\n",
       "        [39.8570, 41.2656],\n",
       "        [45.1458, 42.6573],\n",
       "        [37.1341, 40.7882],\n",
       "        [35.9326, 34.9819],\n",
       "        [39.1999, 41.4297],\n",
       "        [37.5842, 44.6603]])"
      ]
     },
     "execution_count": 15,
     "metadata": {},
     "output_type": "execute_result"
    }
   ],
   "source": [
    "X_0"
   ]
  },
  {
   "cell_type": "code",
   "execution_count": 16,
   "id": "e33babef",
   "metadata": {},
   "outputs": [
    {
     "data": {
      "text/plain": [
       "tensor([[78.8026],\n",
       "        [83.1351],\n",
       "        [78.2499],\n",
       "        [75.1130],\n",
       "        [81.1226],\n",
       "        [87.8031],\n",
       "        [77.9223],\n",
       "        [70.9145],\n",
       "        [80.6296],\n",
       "        [82.2445]])"
      ]
     },
     "execution_count": 16,
     "metadata": {},
     "output_type": "execute_result"
    }
   ],
   "source": [
    "y_0"
   ]
  },
  {
   "cell_type": "code",
   "execution_count": 17,
   "id": "6f3db340",
   "metadata": {},
   "outputs": [
    {
     "data": {
      "text/plain": [
       "tensor([[78.8026],\n",
       "        [83.1351],\n",
       "        [78.2499],\n",
       "        [75.1130],\n",
       "        [81.1226],\n",
       "        [87.8031],\n",
       "        [77.9223],\n",
       "        [70.9145],\n",
       "        [80.6296],\n",
       "        [82.2445]], grad_fn=<MmBackward0>)"
      ]
     },
     "execution_count": 17,
     "metadata": {},
     "output_type": "execute_result"
    }
   ],
   "source": [
    "model(X_0)"
   ]
  },
  {
   "cell_type": "code",
   "execution_count": 25,
   "id": "8ee22787",
   "metadata": {},
   "outputs": [
    {
     "data": {
      "text/plain": [
       "Parameter containing:\n",
       "tensor([[9.0121, 9.0110]], requires_grad=True)"
      ]
     },
     "execution_count": 25,
     "metadata": {},
     "output_type": "execute_result"
    }
   ],
   "source": [
    "model.W_hat"
   ]
  },
  {
   "cell_type": "code",
   "execution_count": 19,
   "id": "46b18aa9",
   "metadata": {},
   "outputs": [
    {
     "data": {
      "text/plain": [
       "Parameter containing:\n",
       "tensor([[16.6356, 16.6356]], requires_grad=True)"
      ]
     },
     "execution_count": 19,
     "metadata": {},
     "output_type": "execute_result"
    }
   ],
   "source": [
    "model.M_hat"
   ]
  },
  {
   "cell_type": "code",
   "execution_count": 26,
   "id": "745cd557",
   "metadata": {},
   "outputs": [
    {
     "data": {
      "text/plain": [
       "tensor([[1., 1.]], grad_fn=<MulBackward0>)"
      ]
     },
     "execution_count": 26,
     "metadata": {},
     "output_type": "execute_result"
    }
   ],
   "source": [
    "model.eval()\n",
    "\n",
    "torch.tanh(model.W_hat) * torch.sigmoid(model.M_hat)"
   ]
  }
 ],
 "metadata": {
  "kernelspec": {
   "display_name": "Python 3 (ipykernel)",
   "language": "python",
   "name": "python3"
  },
  "language_info": {
   "codemirror_mode": {
    "name": "ipython",
    "version": 3
   },
   "file_extension": ".py",
   "mimetype": "text/x-python",
   "name": "python",
   "nbconvert_exporter": "python",
   "pygments_lexer": "ipython3",
   "version": "3.9.7"
  }
 },
 "nbformat": 4,
 "nbformat_minor": 5
}
