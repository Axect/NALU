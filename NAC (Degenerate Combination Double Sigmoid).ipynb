{
 "cells": [
  {
   "cell_type": "code",
   "execution_count": 1,
   "id": "1dd2d4d5",
   "metadata": {},
   "outputs": [],
   "source": [
    "import torch\n",
    "from torch import nn, optim\n",
    "from torch.nn.parameter import Parameter\n",
    "from torch.utils.data import Dataset, DataLoader, random_split\n",
    "import torch.nn.functional as F\n",
    "from torch.distributions import Uniform\n",
    "# from torch.optim.lr_scheduler import ReduceLROnPlateau, ExponentialLR, OneCycleLR\n",
    "\n",
    "import pytorch_lightning as pl\n",
    "from pytorch_lightning import Trainer\n",
    "# from pytorch_lightning.callbacks.early_stopping import EarlyStopping\n",
    "# from pytorch_lightning.callbacks import LearningRateMonitor\n",
    "from pytorch_lightning.loggers import WandbLogger\n",
    "\n",
    "import torchmetrics\n",
    "\n",
    "import numpy as np\n",
    "import matplotlib.pyplot as plt\n",
    "import random\n",
    "\n",
    "import wandb\n",
    "\n",
    "PATH_DATASETS = \".\"\n",
    "AVAIL_GPUS = min(1, torch.cuda.device_count())\n",
    "BATCH_SIZE = 512 if AVAIL_GPUS else 64\n",
    "# BATCH_SIZE=1"
   ]
  },
  {
   "cell_type": "code",
   "execution_count": 2,
   "id": "9e1d5260",
   "metadata": {},
   "outputs": [
    {
     "name": "stderr",
     "output_type": "stream",
     "text": [
      "Global seed set to 125\n"
     ]
    },
    {
     "data": {
      "text/plain": [
       "125"
      ]
     },
     "execution_count": 2,
     "metadata": {},
     "output_type": "execute_result"
    }
   ],
   "source": [
    "pl.seed_everything(125)"
   ]
  },
  {
   "cell_type": "code",
   "execution_count": 3,
   "id": "78379233",
   "metadata": {},
   "outputs": [],
   "source": [
    "NORMALIZE = True\n",
    "NUM_LAYERS = 2\n",
    "HIDDEN_DIM = 2\n",
    "LEARNING_RATE = 1e-2\n",
    "NUM_ITERS = int(1e5)\n",
    "RANGE = [5, 10]"
   ]
  },
  {
   "cell_type": "markdown",
   "id": "a4dfe5dc",
   "metadata": {},
   "source": [
    "## Problem Description"
   ]
  },
  {
   "cell_type": "markdown",
   "id": "ca137ff8",
   "metadata": {},
   "source": [
    "$$a,\\, b,\\, c,\\, d(=-c) \\Rightarrow a-c(= a+d),~b+c(=b-d)$$"
   ]
  },
  {
   "cell_type": "markdown",
   "id": "7d54e0b9",
   "metadata": {},
   "source": [
    "## Generate Data"
   ]
  },
  {
   "cell_type": "code",
   "execution_count": 4,
   "id": "d57a8d3c",
   "metadata": {},
   "outputs": [],
   "source": [
    "class DataWrapper(Dataset):\n",
    "    def __init__(self, X, y):\n",
    "        self.X = X\n",
    "        self.y = y\n",
    "        \n",
    "    def __len__(self):\n",
    "        return self.X.shape[0]\n",
    "    \n",
    "    def __getitem__(self, idx):\n",
    "        return self.X[idx], self.y[idx]"
   ]
  },
  {
   "cell_type": "code",
   "execution_count": 5,
   "id": "1a0edeac",
   "metadata": {},
   "outputs": [],
   "source": [
    "def degenerate_data(range_feature=[0,1], size=None):\n",
    "    U = Uniform(*range_feature)\n",
    "    X = U.sample((size, 3))\n",
    "    X = torch.column_stack([X, -X[:,2]])\n",
    "    Y = torch.column_stack([X[:,0] - X[:,2], X[:,1] + X[:,2]])\n",
    "    ds = DataWrapper(X, Y)\n",
    "    return ds"
   ]
  },
  {
   "cell_type": "code",
   "execution_count": 6,
   "id": "7f0654e4",
   "metadata": {},
   "outputs": [],
   "source": [
    "ds_test = degenerate_data(range_feature=[0, 1], size=100)"
   ]
  },
  {
   "cell_type": "code",
   "execution_count": 7,
   "id": "7b364aee",
   "metadata": {},
   "outputs": [
    {
     "data": {
      "text/plain": [
       "(tensor([ 0.7219,  0.3854,  0.7279, -0.7279]), tensor([-0.0060,  1.1132]))"
      ]
     },
     "execution_count": 7,
     "metadata": {},
     "output_type": "execute_result"
    }
   ],
   "source": [
    "ds_test[0]"
   ]
  },
  {
   "cell_type": "code",
   "execution_count": 8,
   "id": "f1c107de",
   "metadata": {},
   "outputs": [
    {
     "data": {
      "text/plain": [
       "100"
      ]
     },
     "execution_count": 8,
     "metadata": {},
     "output_type": "execute_result"
    }
   ],
   "source": [
    "len(ds_test)"
   ]
  },
  {
   "cell_type": "markdown",
   "id": "f7c1a079",
   "metadata": {},
   "source": [
    "## Network Setup"
   ]
  },
  {
   "cell_type": "code",
   "execution_count": 9,
   "id": "c9f5f0f3",
   "metadata": {},
   "outputs": [],
   "source": [
    "class NAC(pl.LightningModule):\n",
    "    def __init__(self, n_in, n_out):\n",
    "        super().__init__()\n",
    "        self.W_hat = Parameter(torch.Tensor(n_out, n_in))\n",
    "        self.M_hat = Parameter(torch.Tensor(n_out, n_in))\n",
    "        self.reset_parameters()\n",
    "        \n",
    "    def reset_parameters(self):\n",
    "        nn.init.kaiming_uniform_(self.W_hat)\n",
    "        nn.init.kaiming_uniform_(self.M_hat)\n",
    "    \n",
    "    def forward(self, x):\n",
    "        weights = torch.sigmoid(self.W_hat) * torch.sigmoid(self.M_hat)\n",
    "        return F.linear(x, weights)\n",
    "    \n",
    "    def training_step(self, batch, batch_idx):\n",
    "        X, Y = batch\n",
    "        \n",
    "        out = self(X)\n",
    "        loss = F.mse_loss(out, Y)\n",
    "        mea = torch.mean(torch.abs(Y - out))\n",
    "        self.log('train_loss', loss)\n",
    "        self.log('train_mea', mea)\n",
    "        \n",
    "        return loss\n",
    "    \n",
    "    def validation_step(self, batch, batch_idx):\n",
    "        X, Y = batch\n",
    "        \n",
    "        out = self(X)\n",
    "        loss = F.mse_loss(out, Y)\n",
    "        mea = torch.mean(torch.abs(Y - out))\n",
    "        self.log('val_loss', loss)\n",
    "        self.log('val_mea', mea)\n",
    "        \n",
    "        return loss\n",
    "    \n",
    "    def configure_optimizers(self):\n",
    "        optimizer = optim.RMSprop(self.parameters(), lr=LEARNING_RATE)\n",
    "        return optimizer\n",
    "    \n",
    "    def prepare_data(self):\n",
    "        self.ds_train = degenerate_data(range_feature=[0,1], size=500)\n",
    "        self.ds_val = degenerate_data(range_feature=[0,1], size=100)\n",
    "        \n",
    "#     def setup(self, stage=None):\n",
    "#         if stage == \"fit\" or stage is None:\n",
    "#             self.ds_train = DataWrapper(self.X_train, self.y_train)\n",
    "#             self.ds_val = DataWrapper(self.X_val, self.y_val)\n",
    "#         if stage == \"test\" or stage is None:\n",
    "#             self.ds_test = DataWrapper(self.X_val, self.y_val)\n",
    "        \n",
    "    def train_dataloader(self):\n",
    "        return DataLoader(self.ds_train, batch_size=50)\n",
    "    \n",
    "    def val_dataloader(self):\n",
    "        return DataLoader(self.ds_val, batch_size=10)"
   ]
  },
  {
   "cell_type": "code",
   "execution_count": 10,
   "id": "4a987fb9",
   "metadata": {},
   "outputs": [
    {
     "name": "stderr",
     "output_type": "stream",
     "text": [
      "GPU available: True, used: True\n",
      "TPU available: False, using: 0 TPU cores\n",
      "IPU available: False, using: 0 IPUs\n"
     ]
    }
   ],
   "source": [
    "model = NAC(\n",
    "    n_in=4,\n",
    "    n_out=2\n",
    ")\n",
    "\n",
    "wandb_logger = WandbLogger(\n",
    "    project='NALU_Degenerate_Test'\n",
    ")\n",
    "\n",
    "trainer = Trainer(\n",
    "    logger=wandb_logger,\n",
    "    max_epochs=200,\n",
    "    gpus=AVAIL_GPUS,\n",
    "    enable_progress_bar=False,\n",
    ")"
   ]
  },
  {
   "cell_type": "code",
   "execution_count": 11,
   "id": "d6164da7",
   "metadata": {},
   "outputs": [
    {
     "data": {
      "text/plain": [
       "NAC()"
      ]
     },
     "execution_count": 11,
     "metadata": {},
     "output_type": "execute_result"
    }
   ],
   "source": [
    "model"
   ]
  },
  {
   "cell_type": "code",
   "execution_count": 12,
   "id": "ddaabe4c",
   "metadata": {},
   "outputs": [
    {
     "name": "stderr",
     "output_type": "stream",
     "text": [
      "LOCAL_RANK: 0 - CUDA_VISIBLE_DEVICES: [0]\n",
      "\n",
      "  | Name | Type | Params\n",
      "------------------------------\n",
      "------------------------------\n",
      "16        Trainable params\n",
      "0         Non-trainable params\n",
      "16        Total params\n",
      "0.000     Total estimated model params size (MB)\n",
      "/home/xteca/anaconda3/lib/python3.9/site-packages/pytorch_lightning/callbacks/model_checkpoint.py:631: UserWarning: Checkpoint directory /home/xteca/Documents/Project/Machine_Learning/NALU/None/version_None/checkpoints exists and is not empty.\n",
      "  rank_zero_warn(f\"Checkpoint directory {dirpath} exists and is not empty.\")\n",
      "/home/xteca/anaconda3/lib/python3.9/site-packages/pytorch_lightning/trainer/data_loading.py:132: UserWarning: The dataloader, val_dataloader 0, does not have many workers which may be a bottleneck. Consider increasing the value of the `num_workers` argument` (try 12 which is the number of cpus on this machine) in the `DataLoader` init to improve performance.\n",
      "  rank_zero_warn(\n",
      "Global seed set to 125\n",
      "/home/xteca/anaconda3/lib/python3.9/site-packages/pytorch_lightning/trainer/data_loading.py:132: UserWarning: The dataloader, train_dataloader, does not have many workers which may be a bottleneck. Consider increasing the value of the `num_workers` argument` (try 12 which is the number of cpus on this machine) in the `DataLoader` init to improve performance.\n",
      "  rank_zero_warn(\n",
      "/home/xteca/anaconda3/lib/python3.9/site-packages/pytorch_lightning/trainer/data_loading.py:428: UserWarning: The number of training samples (10) is smaller than the logging interval Trainer(log_every_n_steps=50). Set a lower value for log_every_n_steps if you want to see logs for the training epoch.\n",
      "  rank_zero_warn(\n",
      "\u001b[34m\u001b[1mwandb\u001b[0m: Currently logged in as: \u001b[33maxect\u001b[0m (use `wandb login --relogin` to force relogin)\n",
      "\u001b[34m\u001b[1mwandb\u001b[0m: wandb version 0.12.14 is available!  To upgrade, please run:\n",
      "\u001b[34m\u001b[1mwandb\u001b[0m:  $ pip install wandb --upgrade\n"
     ]
    },
    {
     "data": {
      "text/html": [
       "\n",
       "                    Syncing run <strong><a href=\"https://wandb.ai/axect/NALU_Degenerate_Test/runs/36dp1urj\" target=\"_blank\">crisp-eon-3</a></strong> to <a href=\"https://wandb.ai/axect/NALU_Degenerate_Test\" target=\"_blank\">Weights & Biases</a> (<a href=\"https://docs.wandb.com/integrations/jupyter.html\" target=\"_blank\">docs</a>).<br/>\n",
       "\n",
       "                "
      ],
      "text/plain": [
       "<IPython.core.display.HTML object>"
      ]
     },
     "metadata": {},
     "output_type": "display_data"
    }
   ],
   "source": [
    "trainer.fit(model)"
   ]
  },
  {
   "cell_type": "code",
   "execution_count": 13,
   "id": "957078fd",
   "metadata": {},
   "outputs": [
    {
     "data": {
      "text/html": [
       "<br/>Waiting for W&B process to finish, PID 4528... <strong style=\"color:green\">(success).</strong>"
      ],
      "text/plain": [
       "<IPython.core.display.HTML object>"
      ]
     },
     "metadata": {},
     "output_type": "display_data"
    },
    {
     "data": {
      "application/vnd.jupyter.widget-view+json": {
       "model_id": "",
       "version_major": 2,
       "version_minor": 0
      },
      "text/plain": [
       "VBox(children=(Label(value=' 0.00MB of 0.00MB uploaded (0.00MB deduped)\\r'), FloatProgress(value=1.0, max=1.0)…"
      ]
     },
     "metadata": {},
     "output_type": "display_data"
    },
    {
     "data": {
      "text/html": [
       "<style>\n",
       "    table.wandb td:nth-child(1) { padding: 0 10px; text-align: right }\n",
       "    .wandb-row { display: flex; flex-direction: row; flex-wrap: wrap; width: 100% }\n",
       "    .wandb-col { display: flex; flex-direction: column; flex-basis: 100%; flex: 1; padding: 10px; }\n",
       "    </style>\n",
       "<div class=\"wandb-row\"><div class=\"wandb-col\">\n",
       "<h3>Run history:</h3><br/><table class=\"wandb\"><tr><td>epoch</td><td>▁▁▁▂▂▂▂▂▂▃▃▃▃▃▃▄▄▄▄▄▅▅▅▅▅▅▆▆▆▆▆▇▇▇▇▇▇███</td></tr><tr><td>train_loss</td><td>█▅▃▃▂▂▂▂▁▁▁▁▁▁▁▁▁▁▁▁▁▁▁▁▁▁▁▁▁▁▁▁▁▁▁▁▁▁▁▁</td></tr><tr><td>train_mea</td><td>█▆▅▅▄▄▃▃▃▂▂▂▂▂▂▂▂▁▁▁▁▁▁▁▁▁▁▁▁▁▁▁▁▁▁▁▁▁▁▁</td></tr><tr><td>trainer/global_step</td><td>▁▁▁▂▂▂▂▂▂▃▃▃▃▃▃▄▄▄▄▄▅▅▅▅▅▅▆▆▆▆▆▇▇▇▇▇▇███</td></tr><tr><td>val_loss</td><td>█▄▃▂▂▂▁▁▁▁▁▁▁▁▁▁▁▁▁▁▁▁▁▁▁▁▁▁▁▁▁▁▁▁▁▁▁▁▁▁</td></tr><tr><td>val_mea</td><td>█▆▄▄▃▃▃▃▂▂▂▂▂▂▂▁▁▁▁▁▁▁▁▁▁▁▁▁▁▁▁▁▁▁▁▁▁▁▁▁</td></tr></table><br/></div><div class=\"wandb-col\">\n",
       "<h3>Run summary:</h3><br/><table class=\"wandb\"><tr><td>epoch</td><td>199</td></tr><tr><td>train_loss</td><td>0.0</td></tr><tr><td>train_mea</td><td>0.00151</td></tr><tr><td>trainer/global_step</td><td>1999</td></tr><tr><td>val_loss</td><td>0.0</td></tr><tr><td>val_mea</td><td>0.0012</td></tr></table>\n",
       "</div></div>\n",
       "Synced 4 W&B file(s), 0 media file(s), 0 artifact file(s) and 0 other file(s)\n",
       "<br/>Synced <strong style=\"color:#cdcd00\">crisp-eon-3</strong>: <a href=\"https://wandb.ai/axect/NALU_Degenerate_Test/runs/36dp1urj\" target=\"_blank\">https://wandb.ai/axect/NALU_Degenerate_Test/runs/36dp1urj</a><br/>\n",
       "Find logs at: <code>./wandb/run-20220415_083411-36dp1urj/logs</code><br/>\n"
      ],
      "text/plain": [
       "<IPython.core.display.HTML object>"
      ]
     },
     "metadata": {},
     "output_type": "display_data"
    }
   ],
   "source": [
    "wandb.finish()"
   ]
  },
  {
   "cell_type": "code",
   "execution_count": 14,
   "id": "8ee22787",
   "metadata": {},
   "outputs": [
    {
     "data": {
      "text/plain": [
       "Parameter containing:\n",
       "tensor([[ 6.3918, -3.7345, -4.4399,  6.4784],\n",
       "        [-2.4936,  6.1761,  6.2443, -3.8663]], requires_grad=True)"
      ]
     },
     "execution_count": 14,
     "metadata": {},
     "output_type": "execute_result"
    }
   ],
   "source": [
    "model.W_hat"
   ]
  },
  {
   "cell_type": "code",
   "execution_count": 15,
   "id": "46b18aa9",
   "metadata": {},
   "outputs": [
    {
     "data": {
      "text/plain": [
       "Parameter containing:\n",
       "tensor([[ 6.4857, -3.9293, -4.5877,  6.6641],\n",
       "        [-2.7370,  7.2389,  7.0776, -3.8821]], requires_grad=True)"
      ]
     },
     "execution_count": 15,
     "metadata": {},
     "output_type": "execute_result"
    }
   ],
   "source": [
    "model.M_hat"
   ]
  },
  {
   "cell_type": "code",
   "execution_count": 17,
   "id": "745cd557",
   "metadata": {},
   "outputs": [
    {
     "data": {
      "text/plain": [
       "tensor([[9.9681e-01, 4.4972e-04, 1.1745e-04, 9.9719e-01],\n",
       "        [4.6414e-03, 9.9721e-01, 9.9722e-01, 4.1404e-04]],\n",
       "       grad_fn=<MulBackward0>)"
      ]
     },
     "execution_count": 17,
     "metadata": {},
     "output_type": "execute_result"
    }
   ],
   "source": [
    "model.eval()\n",
    "\n",
    "torch.sigmoid(model.W_hat) * torch.sigmoid(model.M_hat)"
   ]
  },
  {
   "cell_type": "code",
   "execution_count": 18,
   "id": "a8dca775",
   "metadata": {},
   "outputs": [],
   "source": [
    "X, Y = ds_test[:]"
   ]
  },
  {
   "cell_type": "code",
   "execution_count": 21,
   "id": "364cbc10",
   "metadata": {},
   "outputs": [
    {
     "data": {
      "text/plain": [
       "tensor([[-0.0060,  1.1132, -0.0060,  1.1132],\n",
       "        [-0.6676,  1.4312, -0.6698,  1.4350],\n",
       "        [ 0.3746,  1.1733,  0.3756,  1.1725],\n",
       "        [ 0.0610,  1.7953,  0.0610,  1.7961],\n",
       "        [ 0.0282,  1.2781,  0.0282,  1.2786],\n",
       "        [-0.4917,  1.8738, -0.4934,  1.8775],\n",
       "        [ 0.9630,  0.4131,  0.9659,  0.4098],\n",
       "        [-0.3145,  0.3809, -0.3155,  0.3820],\n",
       "        [ 0.1135,  0.8891,  0.1135,  0.8907],\n",
       "        [ 0.0777,  1.7424,  0.0777,  1.7436],\n",
       "        [-0.2842,  1.4274, -0.2852,  1.4291],\n",
       "        [-0.5377,  0.7601, -0.5394,  0.7624],\n",
       "        [ 0.4153,  0.9119,  0.4164,  0.9113],\n",
       "        [-0.3922,  1.1603, -0.3934,  1.1619],\n",
       "        [-0.5385,  1.7264, -0.5403,  1.7300],\n",
       "        [ 0.0424,  1.0068,  0.0424,  1.0071],\n",
       "        [-0.7698,  1.4017, -0.7722,  1.4050],\n",
       "        [ 0.1417,  1.5499,  0.1419,  1.5505],\n",
       "        [-0.4664,  1.0186, -0.4680,  1.0214],\n",
       "        [-0.7036,  1.9461, -0.7060,  1.9508],\n",
       "        [ 0.1446,  0.5795,  0.1451,  0.5791],\n",
       "        [-0.3275,  0.9945, -0.3286,  0.9965],\n",
       "        [-0.1053,  1.5009, -0.1059,  1.5031],\n",
       "        [ 0.0207,  0.9606,  0.0210,  0.9592],\n",
       "        [-0.2889,  0.9326, -0.2897,  0.9332],\n",
       "        [ 0.0139,  0.9588,  0.0141,  0.9582],\n",
       "        [ 0.0691,  1.7910,  0.0691,  1.7921],\n",
       "        [-0.5682,  1.2323, -0.5701,  1.2353],\n",
       "        [ 0.1564,  1.0129,  0.1569,  1.0126],\n",
       "        [-0.0693,  0.8165, -0.0696,  0.8170],\n",
       "        [ 0.3336,  1.5233,  0.3344,  1.5235],\n",
       "        [ 0.0254,  0.3086,  0.0254,  0.3089],\n",
       "        [ 0.0941,  1.0696,  0.0946,  1.0685],\n",
       "        [ 0.0973,  1.5782,  0.0974,  1.5794],\n",
       "        [-0.1021,  1.0026, -0.1027,  1.0051],\n",
       "        [ 0.5543,  1.0626,  0.5559,  1.0612],\n",
       "        [ 0.2735,  0.4573,  0.2743,  0.4564],\n",
       "        [ 0.3479,  1.0093,  0.3487,  1.0095],\n",
       "        [-0.2333,  1.2615, -0.2340,  1.2625],\n",
       "        [-0.1722,  1.2388, -0.1732,  1.2420],\n",
       "        [ 0.1497,  0.6448,  0.1501,  0.6451],\n",
       "        [ 0.1826,  1.5137,  0.1831,  1.5140],\n",
       "        [ 0.0654,  0.8508,  0.0656,  0.8505],\n",
       "        [-0.0428,  1.4761, -0.0429,  1.4764],\n",
       "        [-0.2551,  0.5815, -0.2559,  0.5828],\n",
       "        [ 0.0162,  1.6170,  0.0161,  1.6183],\n",
       "        [-0.2644,  1.2235, -0.2653,  1.2255],\n",
       "        [ 0.4419,  0.5601,  0.4432,  0.5590],\n",
       "        [ 0.4264,  0.3924,  0.4278,  0.3902],\n",
       "        [ 0.5142,  0.5827,  0.5157,  0.5809],\n",
       "        [-0.4531,  1.8737, -0.4548,  1.8772],\n",
       "        [ 0.2937,  1.3343,  0.2944,  1.3346],\n",
       "        [ 0.0869,  0.8497,  0.0868,  0.8516],\n",
       "        [-0.1364,  1.4158, -0.1371,  1.4181],\n",
       "        [-0.2794,  1.7657, -0.2804,  1.7680],\n",
       "        [-0.0781,  0.4748, -0.0784,  0.4753],\n",
       "        [-0.0721,  1.2632, -0.0724,  1.2641],\n",
       "        [-0.1982,  1.0291, -0.1987,  1.0297],\n",
       "        [ 0.5267,  1.1827,  0.5281,  1.1824],\n",
       "        [-0.7077,  1.1098, -0.7100,  1.1132],\n",
       "        [-0.4448,  1.5549, -0.4462,  1.5572],\n",
       "        [-0.0902,  0.9955, -0.0903,  0.9947],\n",
       "        [-0.3515,  1.5579, -0.3528,  1.5604],\n",
       "        [ 0.7363,  1.0644,  0.7383,  1.0635],\n",
       "        [-0.3718,  1.4182, -0.3733,  1.4218],\n",
       "        [ 0.5382,  0.5399,  0.5399,  0.5375],\n",
       "        [ 0.5717,  1.1300,  0.5731,  1.1296],\n",
       "        [-0.3813,  1.3676, -0.3827,  1.3711],\n",
       "        [-0.4143,  1.0170, -0.4157,  1.0194],\n",
       "        [ 0.2312,  0.8663,  0.2316,  0.8675],\n",
       "        [ 0.5894,  1.1343,  0.5909,  1.1338],\n",
       "        [-0.1148,  0.6041, -0.1152,  0.6051],\n",
       "        [-0.0640,  0.6434, -0.0644,  0.6447],\n",
       "        [-0.1039,  1.3772, -0.1045,  1.3793],\n",
       "        [-0.1748,  0.3548, -0.1754,  0.3555],\n",
       "        [ 0.4248,  0.4196,  0.4262,  0.4175],\n",
       "        [ 0.4713,  0.7677,  0.4727,  0.7658],\n",
       "        [ 0.5140,  0.6009,  0.5156,  0.5991],\n",
       "        [-0.6652,  1.0944, -0.6673,  1.0976],\n",
       "        [ 0.1852,  1.4759,  0.1856,  1.4763],\n",
       "        [ 0.5178,  0.9696,  0.5191,  0.9699],\n",
       "        [-0.1643,  1.6370, -0.1649,  1.6385],\n",
       "        [-0.5784,  1.0614, -0.5800,  1.0631],\n",
       "        [ 0.0755,  0.9768,  0.0759,  0.9756],\n",
       "        [-0.2209,  0.7298, -0.2218,  0.7318],\n",
       "        [-0.6837,  1.5252, -0.6861,  1.5294],\n",
       "        [ 0.4748,  0.5845,  0.4761,  0.5838],\n",
       "        [-0.1981,  1.4183, -0.1990,  1.4213],\n",
       "        [ 0.7230,  1.0061,  0.7250,  1.0044],\n",
       "        [-0.0241,  0.3951, -0.0242,  0.3954],\n",
       "        [ 0.0038,  1.2455,  0.0039,  1.2449],\n",
       "        [ 0.2687,  0.8064,  0.2697,  0.8048],\n",
       "        [-0.1676,  0.5909, -0.1681,  0.5913],\n",
       "        [-0.9316,  1.5721, -0.9346,  1.5767],\n",
       "        [ 0.4626,  0.3787,  0.4641,  0.3767],\n",
       "        [ 0.2852,  1.2695,  0.2858,  1.2702],\n",
       "        [ 0.3870,  0.2956,  0.3882,  0.2942],\n",
       "        [ 0.0139,  1.0115,  0.0138,  1.0127],\n",
       "        [-0.0211,  1.8293, -0.0214,  1.8306],\n",
       "        [-0.1114,  0.7382, -0.1118,  0.7392]], grad_fn=<CatBackward0>)"
      ]
     },
     "execution_count": 21,
     "metadata": {},
     "output_type": "execute_result"
    }
   ],
   "source": [
    "torch.column_stack([model(X), Y])"
   ]
  },
  {
   "cell_type": "code",
   "execution_count": null,
   "id": "6f851e38",
   "metadata": {},
   "outputs": [],
   "source": []
  }
 ],
 "metadata": {
  "kernelspec": {
   "display_name": "Python 3 (ipykernel)",
   "language": "python",
   "name": "python3"
  },
  "language_info": {
   "codemirror_mode": {
    "name": "ipython",
    "version": 3
   },
   "file_extension": ".py",
   "mimetype": "text/x-python",
   "name": "python",
   "nbconvert_exporter": "python",
   "pygments_lexer": "ipython3",
   "version": "3.9.7"
  }
 },
 "nbformat": 4,
 "nbformat_minor": 5
}
