{
 "cells": [
  {
   "cell_type": "code",
   "execution_count": 1,
   "id": "1dd2d4d5",
   "metadata": {},
   "outputs": [],
   "source": [
    "import torch\n",
    "from torch import nn, optim\n",
    "from torch.nn.parameter import Parameter\n",
    "from torch.utils.data import Dataset, DataLoader, random_split\n",
    "import torch.nn.functional as F\n",
    "from torch.distributions import Uniform\n",
    "# from torch.optim.lr_scheduler import ReduceLROnPlateau, ExponentialLR, OneCycleLR\n",
    "\n",
    "import pytorch_lightning as pl\n",
    "from pytorch_lightning import Trainer\n",
    "# from pytorch_lightning.callbacks.early_stopping import EarlyStopping\n",
    "# from pytorch_lightning.callbacks import LearningRateMonitor\n",
    "from pytorch_lightning.loggers import WandbLogger\n",
    "\n",
    "import torchmetrics\n",
    "\n",
    "import numpy as np\n",
    "import matplotlib.pyplot as plt\n",
    "import random\n",
    "\n",
    "import wandb\n",
    "\n",
    "PATH_DATASETS = \".\"\n",
    "AVAIL_GPUS = min(1, torch.cuda.device_count())\n",
    "BATCH_SIZE = 512 if AVAIL_GPUS else 64\n",
    "# BATCH_SIZE=1"
   ]
  },
  {
   "cell_type": "code",
   "execution_count": 2,
   "id": "9e1d5260",
   "metadata": {},
   "outputs": [
    {
     "name": "stderr",
     "output_type": "stream",
     "text": [
      "Global seed set to 125\n"
     ]
    },
    {
     "data": {
      "text/plain": [
       "125"
      ]
     },
     "execution_count": 2,
     "metadata": {},
     "output_type": "execute_result"
    }
   ],
   "source": [
    "pl.seed_everything(125)"
   ]
  },
  {
   "cell_type": "code",
   "execution_count": 3,
   "id": "78379233",
   "metadata": {},
   "outputs": [],
   "source": [
    "NORMALIZE = True\n",
    "NUM_LAYERS = 2\n",
    "HIDDEN_DIM = 2\n",
    "LEARNING_RATE = 1e-2\n",
    "NUM_ITERS = int(1e5)\n",
    "RANGE = [5, 10]"
   ]
  },
  {
   "cell_type": "markdown",
   "id": "a4dfe5dc",
   "metadata": {},
   "source": [
    "## Problem Description"
   ]
  },
  {
   "cell_type": "markdown",
   "id": "ca137ff8",
   "metadata": {},
   "source": [
    "$$a,\\, b,\\, c,\\, d(=-c) \\Rightarrow a-c(= a+d),~b+c(=b-d)$$"
   ]
  },
  {
   "cell_type": "markdown",
   "id": "7d54e0b9",
   "metadata": {},
   "source": [
    "## Generate Data"
   ]
  },
  {
   "cell_type": "code",
   "execution_count": 4,
   "id": "d57a8d3c",
   "metadata": {},
   "outputs": [],
   "source": [
    "class DataWrapper(Dataset):\n",
    "    def __init__(self, X, y):\n",
    "        self.X = X\n",
    "        self.y = y\n",
    "        \n",
    "    def __len__(self):\n",
    "        return self.X.shape[0]\n",
    "    \n",
    "    def __getitem__(self, idx):\n",
    "        return self.X[idx], self.y[idx]"
   ]
  },
  {
   "cell_type": "code",
   "execution_count": 5,
   "id": "1a0edeac",
   "metadata": {},
   "outputs": [],
   "source": [
    "def degenerate_data(range_feature=[0,1], size=None):\n",
    "    U = Uniform(*range_feature)\n",
    "    X = U.sample((size, 3))\n",
    "    X = torch.column_stack([X, -X[:,2]])\n",
    "    Y = torch.column_stack([X[:,0] - X[:,2], X[:,1] + X[:,2]])\n",
    "    ds = DataWrapper(X, Y)\n",
    "    return ds"
   ]
  },
  {
   "cell_type": "code",
   "execution_count": 6,
   "id": "7f0654e4",
   "metadata": {},
   "outputs": [],
   "source": [
    "ds_test = degenerate_data(range_feature=[0, 1], size=100)"
   ]
  },
  {
   "cell_type": "code",
   "execution_count": 7,
   "id": "7b364aee",
   "metadata": {},
   "outputs": [
    {
     "data": {
      "text/plain": [
       "(tensor([ 0.7219,  0.3854,  0.7279, -0.7279]), tensor([-0.0060,  1.1132]))"
      ]
     },
     "execution_count": 7,
     "metadata": {},
     "output_type": "execute_result"
    }
   ],
   "source": [
    "ds_test[0]"
   ]
  },
  {
   "cell_type": "code",
   "execution_count": 8,
   "id": "f1c107de",
   "metadata": {},
   "outputs": [
    {
     "data": {
      "text/plain": [
       "100"
      ]
     },
     "execution_count": 8,
     "metadata": {},
     "output_type": "execute_result"
    }
   ],
   "source": [
    "len(ds_test)"
   ]
  },
  {
   "cell_type": "markdown",
   "id": "f7c1a079",
   "metadata": {},
   "source": [
    "## Network Setup"
   ]
  },
  {
   "cell_type": "code",
   "execution_count": 9,
   "id": "c9f5f0f3",
   "metadata": {},
   "outputs": [],
   "source": [
    "class NAC(pl.LightningModule):\n",
    "    def __init__(self, n_in, n_out):\n",
    "        super().__init__()\n",
    "        self.W_hat = Parameter(torch.Tensor(n_out, n_in))\n",
    "        self.M_hat = Parameter(torch.Tensor(n_out, n_in))\n",
    "        self.reset_parameters()\n",
    "        \n",
    "    def reset_parameters(self):\n",
    "        nn.init.kaiming_uniform_(self.W_hat)\n",
    "        nn.init.kaiming_uniform_(self.M_hat)\n",
    "    \n",
    "    def forward(self, x):\n",
    "        weights = torch.tanh(self.W_hat)**2 * torch.sigmoid(self.M_hat)\n",
    "        return F.linear(x, weights)\n",
    "    \n",
    "    def training_step(self, batch, batch_idx):\n",
    "        X, Y = batch\n",
    "        \n",
    "        out = self(X)\n",
    "        loss = F.mse_loss(out, Y)\n",
    "        mea = torch.mean(torch.abs(Y - out))\n",
    "        self.log('train_loss', loss)\n",
    "        self.log('train_mea', mea)\n",
    "        \n",
    "        return loss\n",
    "    \n",
    "    def validation_step(self, batch, batch_idx):\n",
    "        X, Y = batch\n",
    "        \n",
    "        out = self(X)\n",
    "        loss = F.mse_loss(out, Y)\n",
    "        mea = torch.mean(torch.abs(Y - out))\n",
    "        self.log('val_loss', loss)\n",
    "        self.log('val_mea', mea)\n",
    "        \n",
    "        return loss\n",
    "    \n",
    "    def configure_optimizers(self):\n",
    "        optimizer = optim.RMSprop(self.parameters(), lr=LEARNING_RATE)\n",
    "        return optimizer\n",
    "    \n",
    "    def prepare_data(self):\n",
    "        self.ds_train = degenerate_data(range_feature=[0,1], size=500)\n",
    "        self.ds_val = degenerate_data(range_feature=[0,1], size=100)\n",
    "        \n",
    "#     def setup(self, stage=None):\n",
    "#         if stage == \"fit\" or stage is None:\n",
    "#             self.ds_train = DataWrapper(self.X_train, self.y_train)\n",
    "#             self.ds_val = DataWrapper(self.X_val, self.y_val)\n",
    "#         if stage == \"test\" or stage is None:\n",
    "#             self.ds_test = DataWrapper(self.X_val, self.y_val)\n",
    "        \n",
    "    def train_dataloader(self):\n",
    "        return DataLoader(self.ds_train, batch_size=50)\n",
    "    \n",
    "    def val_dataloader(self):\n",
    "        return DataLoader(self.ds_val, batch_size=10)"
   ]
  },
  {
   "cell_type": "code",
   "execution_count": 10,
   "id": "4a987fb9",
   "metadata": {},
   "outputs": [
    {
     "name": "stderr",
     "output_type": "stream",
     "text": [
      "GPU available: True, used: True\n",
      "TPU available: False, using: 0 TPU cores\n",
      "IPU available: False, using: 0 IPUs\n"
     ]
    }
   ],
   "source": [
    "model = NAC(\n",
    "    n_in=4,\n",
    "    n_out=2\n",
    ")\n",
    "\n",
    "wandb_logger = WandbLogger(\n",
    "    project='NALU_Degenerate_Test'\n",
    ")\n",
    "\n",
    "trainer = Trainer(\n",
    "    logger=wandb_logger,\n",
    "    max_epochs=200,\n",
    "    gpus=AVAIL_GPUS,\n",
    "    enable_progress_bar=False,\n",
    ")"
   ]
  },
  {
   "cell_type": "code",
   "execution_count": 11,
   "id": "d6164da7",
   "metadata": {},
   "outputs": [
    {
     "data": {
      "text/plain": [
       "NAC()"
      ]
     },
     "execution_count": 11,
     "metadata": {},
     "output_type": "execute_result"
    }
   ],
   "source": [
    "model"
   ]
  },
  {
   "cell_type": "code",
   "execution_count": 12,
   "id": "ddaabe4c",
   "metadata": {},
   "outputs": [
    {
     "name": "stderr",
     "output_type": "stream",
     "text": [
      "LOCAL_RANK: 0 - CUDA_VISIBLE_DEVICES: [0]\n",
      "\n",
      "  | Name | Type | Params\n",
      "------------------------------\n",
      "------------------------------\n",
      "16        Trainable params\n",
      "0         Non-trainable params\n",
      "16        Total params\n",
      "0.000     Total estimated model params size (MB)\n",
      "/home/xteca/anaconda3/lib/python3.9/site-packages/pytorch_lightning/callbacks/model_checkpoint.py:631: UserWarning: Checkpoint directory /home/xteca/Documents/Project/Machine_Learning/NALU/None/version_None/checkpoints exists and is not empty.\n",
      "  rank_zero_warn(f\"Checkpoint directory {dirpath} exists and is not empty.\")\n",
      "/home/xteca/anaconda3/lib/python3.9/site-packages/pytorch_lightning/trainer/data_loading.py:132: UserWarning: The dataloader, val_dataloader 0, does not have many workers which may be a bottleneck. Consider increasing the value of the `num_workers` argument` (try 12 which is the number of cpus on this machine) in the `DataLoader` init to improve performance.\n",
      "  rank_zero_warn(\n",
      "Global seed set to 125\n",
      "/home/xteca/anaconda3/lib/python3.9/site-packages/pytorch_lightning/trainer/data_loading.py:132: UserWarning: The dataloader, train_dataloader, does not have many workers which may be a bottleneck. Consider increasing the value of the `num_workers` argument` (try 12 which is the number of cpus on this machine) in the `DataLoader` init to improve performance.\n",
      "  rank_zero_warn(\n",
      "/home/xteca/anaconda3/lib/python3.9/site-packages/pytorch_lightning/trainer/data_loading.py:428: UserWarning: The number of training samples (10) is smaller than the logging interval Trainer(log_every_n_steps=50). Set a lower value for log_every_n_steps if you want to see logs for the training epoch.\n",
      "  rank_zero_warn(\n",
      "\u001b[34m\u001b[1mwandb\u001b[0m: Currently logged in as: \u001b[33maxect\u001b[0m (use `wandb login --relogin` to force relogin)\n",
      "\u001b[34m\u001b[1mwandb\u001b[0m: wandb version 0.12.14 is available!  To upgrade, please run:\n",
      "\u001b[34m\u001b[1mwandb\u001b[0m:  $ pip install wandb --upgrade\n"
     ]
    },
    {
     "data": {
      "text/html": [
       "\n",
       "                    Syncing run <strong><a href=\"https://wandb.ai/axect/NALU_Degenerate_Test/runs/36nr40x4\" target=\"_blank\">amber-field-4</a></strong> to <a href=\"https://wandb.ai/axect/NALU_Degenerate_Test\" target=\"_blank\">Weights & Biases</a> (<a href=\"https://docs.wandb.com/integrations/jupyter.html\" target=\"_blank\">docs</a>).<br/>\n",
       "\n",
       "                "
      ],
      "text/plain": [
       "<IPython.core.display.HTML object>"
      ]
     },
     "metadata": {},
     "output_type": "display_data"
    }
   ],
   "source": [
    "trainer.fit(model)"
   ]
  },
  {
   "cell_type": "code",
   "execution_count": 13,
   "id": "957078fd",
   "metadata": {},
   "outputs": [
    {
     "data": {
      "text/html": [
       "<br/>Waiting for W&B process to finish, PID 4818... <strong style=\"color:green\">(success).</strong>"
      ],
      "text/plain": [
       "<IPython.core.display.HTML object>"
      ]
     },
     "metadata": {},
     "output_type": "display_data"
    },
    {
     "data": {
      "application/vnd.jupyter.widget-view+json": {
       "model_id": "",
       "version_major": 2,
       "version_minor": 0
      },
      "text/plain": [
       "VBox(children=(Label(value=' 0.00MB of 0.00MB uploaded (0.00MB deduped)\\r'), FloatProgress(value=1.0, max=1.0)…"
      ]
     },
     "metadata": {},
     "output_type": "display_data"
    },
    {
     "data": {
      "text/html": [
       "<style>\n",
       "    table.wandb td:nth-child(1) { padding: 0 10px; text-align: right }\n",
       "    .wandb-row { display: flex; flex-direction: row; flex-wrap: wrap; width: 100% }\n",
       "    .wandb-col { display: flex; flex-direction: column; flex-basis: 100%; flex: 1; padding: 10px; }\n",
       "    </style>\n",
       "<div class=\"wandb-row\"><div class=\"wandb-col\">\n",
       "<h3>Run history:</h3><br/><table class=\"wandb\"><tr><td>epoch</td><td>▁▁▁▂▂▂▂▂▂▃▃▃▃▃▃▄▄▄▄▄▅▅▅▅▅▅▆▆▆▆▆▇▇▇▇▇▇███</td></tr><tr><td>train_loss</td><td>█▅▃▃▂▂▂▁▁▁▁▁▁▁▁▁▁▁▁▁▁▁▁▁▁▁▁▁▁▁▁▁▁▁▁▁▁▁▁▁</td></tr><tr><td>train_mea</td><td>█▆▅▄▄▃▃▃▃▂▂▂▂▂▂▂▁▁▁▁▁▁▁▁▁▁▁▁▁▁▁▁▁▁▁▁▁▁▁▁</td></tr><tr><td>trainer/global_step</td><td>▁▁▁▂▂▂▂▂▂▃▃▃▃▃▃▄▄▄▄▄▅▅▅▅▅▅▆▆▆▆▆▇▇▇▇▇▇███</td></tr><tr><td>val_loss</td><td>█▃▂▂▂▁▁▁▁▁▁▁▁▁▁▁▁▁▁▁▁▁▁▁▁▁▁▁▁▁▁▁▁▁▁▁▁▁▁▁</td></tr><tr><td>val_mea</td><td>█▅▄▄▃▃▂▂▂▂▂▂▂▂▁▁▁▁▁▁▁▁▁▁▁▁▁▁▁▁▁▁▁▁▁▁▁▁▁▁</td></tr></table><br/></div><div class=\"wandb-col\">\n",
       "<h3>Run summary:</h3><br/><table class=\"wandb\"><tr><td>epoch</td><td>199</td></tr><tr><td>train_loss</td><td>0.0</td></tr><tr><td>train_mea</td><td>0.00095</td></tr><tr><td>trainer/global_step</td><td>1999</td></tr><tr><td>val_loss</td><td>0.0</td></tr><tr><td>val_mea</td><td>0.00076</td></tr></table>\n",
       "</div></div>\n",
       "Synced 4 W&B file(s), 0 media file(s), 0 artifact file(s) and 0 other file(s)\n",
       "<br/>Synced <strong style=\"color:#cdcd00\">amber-field-4</strong>: <a href=\"https://wandb.ai/axect/NALU_Degenerate_Test/runs/36nr40x4\" target=\"_blank\">https://wandb.ai/axect/NALU_Degenerate_Test/runs/36nr40x4</a><br/>\n",
       "Find logs at: <code>./wandb/run-20220415_083923-36nr40x4/logs</code><br/>\n"
      ],
      "text/plain": [
       "<IPython.core.display.HTML object>"
      ]
     },
     "metadata": {},
     "output_type": "display_data"
    }
   ],
   "source": [
    "wandb.finish()"
   ]
  },
  {
   "cell_type": "code",
   "execution_count": 14,
   "id": "8ee22787",
   "metadata": {},
   "outputs": [
    {
     "data": {
      "text/plain": [
       "Parameter containing:\n",
       "tensor([[-5.2111e+00, -1.9225e-02, -1.2612e-44, -4.5368e+00],\n",
       "        [ 7.6311e-02, -4.2474e+00, -4.1179e+00,  1.4013e-44]],\n",
       "       requires_grad=True)"
      ]
     },
     "execution_count": 14,
     "metadata": {},
     "output_type": "execute_result"
    }
   ],
   "source": [
    "model.W_hat"
   ]
  },
  {
   "cell_type": "code",
   "execution_count": 15,
   "id": "46b18aa9",
   "metadata": {},
   "outputs": [
    {
     "data": {
      "text/plain": [
       "Parameter containing:\n",
       "tensor([[ 6.1629, -1.7320, -0.8251,  6.3726],\n",
       "        [-0.1471,  6.9857,  7.3735,  0.5990]], requires_grad=True)"
      ]
     },
     "execution_count": 15,
     "metadata": {},
     "output_type": "execute_result"
    }
   ],
   "source": [
    "model.M_hat"
   ]
  },
  {
   "cell_type": "code",
   "execution_count": 16,
   "id": "745cd557",
   "metadata": {},
   "outputs": [
    {
     "data": {
      "text/plain": [
       "tensor([[9.9778e-01, 5.5548e-05, 0.0000e+00, 9.9784e-01],\n",
       "        [2.6875e-03, 9.9826e-01, 9.9831e-01, 0.0000e+00]],\n",
       "       grad_fn=<MulBackward0>)"
      ]
     },
     "execution_count": 16,
     "metadata": {},
     "output_type": "execute_result"
    }
   ],
   "source": [
    "model.eval()\n",
    "\n",
    "torch.tanh(model.W_hat)**2 * torch.sigmoid(model.M_hat)"
   ]
  },
  {
   "cell_type": "code",
   "execution_count": 17,
   "id": "a8dca775",
   "metadata": {},
   "outputs": [],
   "source": [
    "X, Y = ds_test[:]"
   ]
  },
  {
   "cell_type": "code",
   "execution_count": 18,
   "id": "364cbc10",
   "metadata": {},
   "outputs": [
    {
     "data": {
      "text/plain": [
       "tensor([[-0.0060,  1.1133, -0.0060,  1.1132],\n",
       "        [-0.6683,  1.4328, -0.6698,  1.4350],\n",
       "        [ 0.3748,  1.1730,  0.3756,  1.1725],\n",
       "        [ 0.0609,  1.7957,  0.0610,  1.7961],\n",
       "        [ 0.0281,  1.2784,  0.0282,  1.2786],\n",
       "        [-0.4923,  1.8754, -0.4934,  1.8775],\n",
       "        [ 0.9638,  0.4117,  0.9659,  0.4098],\n",
       "        [-0.3148,  0.3814, -0.3155,  0.3820],\n",
       "        [ 0.1133,  0.8897,  0.1135,  0.8907],\n",
       "        [ 0.0775,  1.7429,  0.0777,  1.7436],\n",
       "        [-0.2845,  1.4282, -0.2852,  1.4291],\n",
       "        [-0.5382,  0.7611, -0.5394,  0.7624],\n",
       "        [ 0.4155,  0.9116,  0.4164,  0.9113],\n",
       "        [-0.3926,  1.1610, -0.3934,  1.1619],\n",
       "        [-0.5392,  1.7279, -0.5403,  1.7300],\n",
       "        [ 0.0423,  1.0069,  0.0424,  1.0071],\n",
       "        [-0.7705,  1.4032, -0.7722,  1.4050],\n",
       "        [ 0.1416,  1.5502,  0.1419,  1.5505],\n",
       "        [-0.4670,  1.0198, -0.4680,  1.0214],\n",
       "        [-0.7045,  1.9481, -0.7060,  1.9508],\n",
       "        [ 0.1447,  0.5793,  0.1451,  0.5791],\n",
       "        [-0.3278,  0.9954, -0.3286,  0.9965],\n",
       "        [-0.1057,  1.5018, -0.1059,  1.5031],\n",
       "        [ 0.0209,  0.9602,  0.0210,  0.9592],\n",
       "        [-0.2891,  0.9330, -0.2897,  0.9332],\n",
       "        [ 0.0140,  0.9587,  0.0141,  0.9582],\n",
       "        [ 0.0689,  1.7915,  0.0691,  1.7921],\n",
       "        [-0.5688,  1.2336, -0.5701,  1.2353],\n",
       "        [ 0.1565,  1.0128,  0.1569,  1.0126],\n",
       "        [-0.0694,  0.8168, -0.0696,  0.8170],\n",
       "        [ 0.3337,  1.5234,  0.3344,  1.5235],\n",
       "        [ 0.0254,  0.3087,  0.0254,  0.3089],\n",
       "        [ 0.0943,  1.0692,  0.0946,  1.0685],\n",
       "        [ 0.0972,  1.5787,  0.0974,  1.5794],\n",
       "        [-0.1025,  1.0036, -0.1027,  1.0051],\n",
       "        [ 0.5547,  1.0620,  0.5559,  1.0612],\n",
       "        [ 0.2737,  0.4569,  0.2743,  0.4564],\n",
       "        [ 0.3480,  1.0093,  0.3487,  1.0095],\n",
       "        [-0.2335,  1.2620, -0.2340,  1.2625],\n",
       "        [-0.1727,  1.2400, -0.1732,  1.2420],\n",
       "        [ 0.1497,  0.6449,  0.1501,  0.6451],\n",
       "        [ 0.1827,  1.5138,  0.1831,  1.5140],\n",
       "        [ 0.0655,  0.8507,  0.0656,  0.8505],\n",
       "        [-0.0429,  1.4763, -0.0429,  1.4764],\n",
       "        [-0.2554,  0.5821, -0.2559,  0.5828],\n",
       "        [ 0.0161,  1.6175,  0.0161,  1.6183],\n",
       "        [-0.2647,  1.2244, -0.2653,  1.2255],\n",
       "        [ 0.4422,  0.5596,  0.4432,  0.5590],\n",
       "        [ 0.4269,  0.3915,  0.4278,  0.3902],\n",
       "        [ 0.5146,  0.5819,  0.5157,  0.5809],\n",
       "        [-0.4538,  1.8752, -0.4548,  1.8772],\n",
       "        [ 0.2938,  1.3344,  0.2944,  1.3346],\n",
       "        [ 0.0866,  0.8504,  0.0868,  0.8516],\n",
       "        [-0.1367,  1.4168, -0.1371,  1.4181],\n",
       "        [-0.2798,  1.7667, -0.2804,  1.7680],\n",
       "        [-0.0782,  0.4751, -0.0784,  0.4753],\n",
       "        [-0.0722,  1.2636, -0.0724,  1.2641],\n",
       "        [-0.1983,  1.0294, -0.1987,  1.0297],\n",
       "        [ 0.5269,  1.1825,  0.5281,  1.1824],\n",
       "        [-0.7084,  1.1113, -0.7100,  1.1132],\n",
       "        [-0.4452,  1.5560, -0.4462,  1.5572],\n",
       "        [-0.0901,  0.9953, -0.0903,  0.9947],\n",
       "        [-0.3520,  1.5590, -0.3528,  1.5604],\n",
       "        [ 0.7367,  1.0640,  0.7383,  1.0635],\n",
       "        [-0.3724,  1.4197, -0.3733,  1.4218],\n",
       "        [ 0.5387,  0.5390,  0.5399,  0.5375],\n",
       "        [ 0.5719,  1.1297,  0.5731,  1.1296],\n",
       "        [-0.3819,  1.3691, -0.3827,  1.3711],\n",
       "        [-0.4148,  1.0181, -0.4157,  1.0194],\n",
       "        [ 0.2311,  0.8667,  0.2316,  0.8675],\n",
       "        [ 0.5897,  1.1340,  0.5909,  1.1338],\n",
       "        [-0.1150,  0.6045, -0.1152,  0.6051],\n",
       "        [-0.0642,  0.6439, -0.0644,  0.6447],\n",
       "        [-0.1042,  1.3781, -0.1045,  1.3793],\n",
       "        [-0.1750,  0.3551, -0.1754,  0.3555],\n",
       "        [ 0.4252,  0.4188,  0.4262,  0.4175],\n",
       "        [ 0.4717,  0.7669,  0.4727,  0.7658],\n",
       "        [ 0.5144,  0.6002,  0.5156,  0.5991],\n",
       "        [-0.6658,  1.0958, -0.6673,  1.0976],\n",
       "        [ 0.1852,  1.4761,  0.1856,  1.4763],\n",
       "        [ 0.5180,  0.9696,  0.5191,  0.9699],\n",
       "        [-0.1645,  1.6377, -0.1649,  1.6385],\n",
       "        [-0.5788,  1.0623, -0.5800,  1.0631],\n",
       "        [ 0.0757,  0.9764,  0.0759,  0.9756],\n",
       "        [-0.2213,  0.7306, -0.2218,  0.7318],\n",
       "        [-0.6845,  1.5270, -0.6861,  1.5294],\n",
       "        [ 0.4751,  0.5842,  0.4761,  0.5838],\n",
       "        [-0.1986,  1.4195, -0.1990,  1.4213],\n",
       "        [ 0.7234,  1.0054,  0.7250,  1.0044],\n",
       "        [-0.0242,  0.3953, -0.0242,  0.3954],\n",
       "        [ 0.0039,  1.2454,  0.0039,  1.2449],\n",
       "        [ 0.2690,  0.8058,  0.2697,  0.8048],\n",
       "        [-0.1677,  0.5912, -0.1681,  0.5913],\n",
       "        [-0.9326,  1.5742, -0.9346,  1.5767],\n",
       "        [ 0.4631,  0.3778,  0.4641,  0.3767],\n",
       "        [ 0.2852,  1.2697,  0.2858,  1.2702],\n",
       "        [ 0.3873,  0.2950,  0.3882,  0.2942],\n",
       "        [ 0.0137,  1.0120,  0.0138,  1.0127],\n",
       "        [-0.0213,  1.8299, -0.0214,  1.8306],\n",
       "        [-0.1116,  0.7386, -0.1118,  0.7392]], grad_fn=<CatBackward0>)"
      ]
     },
     "execution_count": 18,
     "metadata": {},
     "output_type": "execute_result"
    }
   ],
   "source": [
    "torch.column_stack([model(X), Y])"
   ]
  },
  {
   "cell_type": "code",
   "execution_count": null,
   "id": "6f851e38",
   "metadata": {},
   "outputs": [],
   "source": []
  }
 ],
 "metadata": {
  "kernelspec": {
   "display_name": "Python 3 (ipykernel)",
   "language": "python",
   "name": "python3"
  },
  "language_info": {
   "codemirror_mode": {
    "name": "ipython",
    "version": 3
   },
   "file_extension": ".py",
   "mimetype": "text/x-python",
   "name": "python",
   "nbconvert_exporter": "python",
   "pygments_lexer": "ipython3",
   "version": "3.9.7"
  }
 },
 "nbformat": 4,
 "nbformat_minor": 5
}
