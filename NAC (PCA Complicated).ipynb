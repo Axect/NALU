{
 "cells": [
  {
   "cell_type": "code",
   "execution_count": 1,
   "id": "1dd2d4d5",
   "metadata": {},
   "outputs": [],
   "source": [
    "import torch\n",
    "from torch import nn, optim\n",
    "from torch.nn.parameter import Parameter\n",
    "from torch.utils.data import Dataset, DataLoader, random_split\n",
    "import torch.nn.functional as F\n",
    "from torch.distributions import Uniform\n",
    "# from torch.optim.lr_scheduler import ReduceLROnPlateau, ExponentialLR, OneCycleLR\n",
    "\n",
    "import pytorch_lightning as pl\n",
    "from pytorch_lightning import Trainer\n",
    "# from pytorch_lightning.callbacks.early_stopping import EarlyStopping\n",
    "# from pytorch_lightning.callbacks import LearningRateMonitor\n",
    "from pytorch_lightning.loggers import WandbLogger\n",
    "\n",
    "import torchmetrics\n",
    "\n",
    "import numpy as np\n",
    "import matplotlib.pyplot as plt\n",
    "import random\n",
    "\n",
    "import wandb\n",
    "\n",
    "PATH_DATASETS = \".\"\n",
    "AVAIL_GPUS = min(1, torch.cuda.device_count())\n",
    "BATCH_SIZE = 512 if AVAIL_GPUS else 64\n",
    "# BATCH_SIZE=1"
   ]
  },
  {
   "cell_type": "code",
   "execution_count": 2,
   "id": "9e1d5260",
   "metadata": {},
   "outputs": [
    {
     "name": "stderr",
     "output_type": "stream",
     "text": [
      "Global seed set to 125\n"
     ]
    },
    {
     "data": {
      "text/plain": [
       "125"
      ]
     },
     "execution_count": 2,
     "metadata": {},
     "output_type": "execute_result"
    }
   ],
   "source": [
    "pl.seed_everything(125)"
   ]
  },
  {
   "cell_type": "code",
   "execution_count": 3,
   "id": "78379233",
   "metadata": {},
   "outputs": [],
   "source": [
    "NORMALIZE = True\n",
    "NUM_LAYERS = 2\n",
    "HIDDEN_DIM = 2\n",
    "LEARNING_RATE = 1e-2\n",
    "NUM_ITERS = int(1e5)\n",
    "RANGE = [5, 10]"
   ]
  },
  {
   "cell_type": "markdown",
   "id": "a4dfe5dc",
   "metadata": {},
   "source": [
    "## Problem Description"
   ]
  },
  {
   "cell_type": "markdown",
   "id": "ca137ff8",
   "metadata": {},
   "source": [
    "$$a,\\, b,\\, c,\\, d,\\, e \\overset{NAC}{\\Longrightarrow} a+c,\\,b+d,\\,e \\overset{MLP}{\\Longrightarrow} (a+c)^2 + \\cos(b+d) - e$$"
   ]
  },
  {
   "cell_type": "markdown",
   "id": "7d54e0b9",
   "metadata": {},
   "source": [
    "## Generate Data"
   ]
  },
  {
   "cell_type": "code",
   "execution_count": 4,
   "id": "d57a8d3c",
   "metadata": {},
   "outputs": [],
   "source": [
    "class DataWrapper(Dataset):\n",
    "    def __init__(self, X, y):\n",
    "        self.X = X\n",
    "        self.y = y\n",
    "        \n",
    "    def __len__(self):\n",
    "        return self.X.shape[0]\n",
    "    \n",
    "    def __getitem__(self, idx):\n",
    "        return self.X[idx], self.y[idx]"
   ]
  },
  {
   "cell_type": "code",
   "execution_count": 21,
   "id": "1a0edeac",
   "metadata": {},
   "outputs": [],
   "source": [
    "def generate_data(range_feature=[0,1], size=None):\n",
    "    U = Uniform(*range_feature)\n",
    "    X = U.sample((size, 5))\n",
    "    Y = (X[:,0] + X[:,2]) ** 2 + torch.cos(X[:,1] + X[:,3]) - X[:,4]\n",
    "    ds = DataWrapper(X, Y)\n",
    "    return ds"
   ]
  },
  {
   "cell_type": "code",
   "execution_count": 22,
   "id": "7f0654e4",
   "metadata": {},
   "outputs": [],
   "source": [
    "ds_test = generate_data(range_feature=[0, 1], size=100)"
   ]
  },
  {
   "cell_type": "code",
   "execution_count": 23,
   "id": "7b364aee",
   "metadata": {},
   "outputs": [
    {
     "data": {
      "text/plain": [
       "(tensor([0.0138, 0.7151, 0.6569, 0.5526, 0.7840]), tensor(-0.0355))"
      ]
     },
     "execution_count": 23,
     "metadata": {},
     "output_type": "execute_result"
    }
   ],
   "source": [
    "ds_test[0]"
   ]
  },
  {
   "cell_type": "code",
   "execution_count": 24,
   "id": "f1c107de",
   "metadata": {},
   "outputs": [
    {
     "data": {
      "text/plain": [
       "100"
      ]
     },
     "execution_count": 24,
     "metadata": {},
     "output_type": "execute_result"
    }
   ],
   "source": [
    "len(ds_test)"
   ]
  },
  {
   "cell_type": "markdown",
   "id": "f7c1a079",
   "metadata": {},
   "source": [
    "## Network Setup"
   ]
  },
  {
   "cell_type": "code",
   "execution_count": 25,
   "id": "c9f5f0f3",
   "metadata": {},
   "outputs": [],
   "source": [
    "class NAC_MLP(pl.LightningModule):\n",
    "    def __init__(self, n_in, n_out):\n",
    "        super().__init__()\n",
    "        self.W_hat = Parameter(torch.Tensor(n_out, n_in))\n",
    "        self.M_hat = Parameter(torch.Tensor(n_out, n_in))\n",
    "        self.reset_parameters()\n",
    "        \n",
    "        self.mlp = nn.Sequential(\n",
    "            nn.Linear(n_out, 512),\n",
    "            nn.ReLU(),\n",
    "            nn.BatchNorm1d(512),\n",
    "            nn.Linear(512, 512),\n",
    "            nn.ReLU(),\n",
    "            nn.BatchNorm1d(512),\n",
    "            nn.Linear(512, 1)\n",
    "        )\n",
    "        \n",
    "    def reset_parameters(self):\n",
    "        nn.init.kaiming_uniform_(self.W_hat)\n",
    "        nn.init.kaiming_uniform_(self.M_hat)\n",
    "    \n",
    "    def forward(self, x):\n",
    "        weights = torch.tanh(self.W_hat)**2 * torch.sigmoid(self.M_hat)\n",
    "        principals = F.linear(x, weights)\n",
    "        return self.mlp(principals)\n",
    "    \n",
    "    def training_step(self, batch, batch_idx):\n",
    "        X, y = batch\n",
    "        \n",
    "        out = self(X)\n",
    "        loss = F.mse_loss(out, y)\n",
    "        mea = torch.mean(torch.abs(y - out))\n",
    "        self.log('train_loss', loss)\n",
    "        self.log('train_mea', mea)\n",
    "        \n",
    "        return loss\n",
    "    \n",
    "    def validation_step(self, batch, batch_idx):\n",
    "        X, y = batch\n",
    "        \n",
    "        out = self(X)\n",
    "        loss = F.mse_loss(out, y)\n",
    "        mea = torch.mean(torch.abs(y - out))\n",
    "        self.log('val_loss', loss)\n",
    "        self.log('val_mea', mea)\n",
    "        \n",
    "        return loss\n",
    "    \n",
    "    def configure_optimizers(self):\n",
    "        optimizer = optim.Adam(self.parameters(), lr=LEARNING_RATE)\n",
    "        return optimizer\n",
    "    \n",
    "    def prepare_data(self):\n",
    "        self.ds_train = generate_data(range_feature=[0,1], size=10000)\n",
    "        self.ds_val = generate_data(range_feature=[0,1], size=1000)\n",
    "        \n",
    "    def train_dataloader(self):\n",
    "        return DataLoader(self.ds_train, batch_size=256)\n",
    "    \n",
    "    def val_dataloader(self):\n",
    "        return DataLoader(self.ds_val, batch_size=128)"
   ]
  },
  {
   "cell_type": "code",
   "execution_count": 26,
   "id": "4a987fb9",
   "metadata": {},
   "outputs": [
    {
     "name": "stderr",
     "output_type": "stream",
     "text": [
      "GPU available: True, used: True\n",
      "TPU available: False, using: 0 TPU cores\n",
      "IPU available: False, using: 0 IPUs\n"
     ]
    }
   ],
   "source": [
    "model = NAC_MLP(\n",
    "    n_in=5,\n",
    "    n_out=3\n",
    ")\n",
    "\n",
    "wandb_logger = WandbLogger(\n",
    "    project='NALU_PCA'\n",
    ")\n",
    "\n",
    "trainer = Trainer(\n",
    "    logger=wandb_logger,\n",
    "    max_epochs=200,\n",
    "    gpus=AVAIL_GPUS,\n",
    "    enable_progress_bar=False,\n",
    ")"
   ]
  },
  {
   "cell_type": "code",
   "execution_count": 27,
   "id": "d6164da7",
   "metadata": {},
   "outputs": [
    {
     "data": {
      "text/plain": [
       "NAC_MLP(\n",
       "  (mlp): Sequential(\n",
       "    (0): Linear(in_features=3, out_features=512, bias=True)\n",
       "    (1): ReLU()\n",
       "    (2): BatchNorm1d(512, eps=1e-05, momentum=0.1, affine=True, track_running_stats=True)\n",
       "    (3): Linear(in_features=512, out_features=512, bias=True)\n",
       "    (4): ReLU()\n",
       "    (5): BatchNorm1d(512, eps=1e-05, momentum=0.1, affine=True, track_running_stats=True)\n",
       "    (6): Linear(in_features=512, out_features=1, bias=True)\n",
       "  )\n",
       ")"
      ]
     },
     "execution_count": 27,
     "metadata": {},
     "output_type": "execute_result"
    }
   ],
   "source": [
    "model"
   ]
  },
  {
   "cell_type": "code",
   "execution_count": 28,
   "id": "ddaabe4c",
   "metadata": {},
   "outputs": [
    {
     "name": "stderr",
     "output_type": "stream",
     "text": [
      "LOCAL_RANK: 0 - CUDA_VISIBLE_DEVICES: [0]\n",
      "\n",
      "  | Name | Type       | Params\n",
      "------------------------------------\n",
      "0 | mlp  | Sequential | 267 K \n",
      "------------------------------------\n",
      "267 K     Trainable params\n",
      "0         Non-trainable params\n",
      "267 K     Total params\n",
      "1.069     Total estimated model params size (MB)\n",
      "/home/xteca/anaconda3/lib/python3.9/site-packages/pytorch_lightning/callbacks/model_checkpoint.py:631: UserWarning: Checkpoint directory /home/xteca/Documents/Project/Machine_Learning/NALU/None/version_None/checkpoints exists and is not empty.\n",
      "  rank_zero_warn(f\"Checkpoint directory {dirpath} exists and is not empty.\")\n",
      "/home/xteca/anaconda3/lib/python3.9/site-packages/pytorch_lightning/trainer/data_loading.py:132: UserWarning: The dataloader, val_dataloader 0, does not have many workers which may be a bottleneck. Consider increasing the value of the `num_workers` argument` (try 12 which is the number of cpus on this machine) in the `DataLoader` init to improve performance.\n",
      "  rank_zero_warn(\n",
      "/tmp/ipykernel_117315/3456481330.py:42: UserWarning: Using a target size (torch.Size([128])) that is different to the input size (torch.Size([128, 1])). This will likely lead to incorrect results due to broadcasting. Please ensure they have the same size.\n",
      "  loss = F.mse_loss(out, y)\n",
      "Global seed set to 125\n",
      "/home/xteca/anaconda3/lib/python3.9/site-packages/pytorch_lightning/trainer/data_loading.py:132: UserWarning: The dataloader, train_dataloader, does not have many workers which may be a bottleneck. Consider increasing the value of the `num_workers` argument` (try 12 which is the number of cpus on this machine) in the `DataLoader` init to improve performance.\n",
      "  rank_zero_warn(\n",
      "/home/xteca/anaconda3/lib/python3.9/site-packages/pytorch_lightning/trainer/data_loading.py:428: UserWarning: The number of training samples (40) is smaller than the logging interval Trainer(log_every_n_steps=50). Set a lower value for log_every_n_steps if you want to see logs for the training epoch.\n",
      "  rank_zero_warn(\n",
      "/tmp/ipykernel_117315/3456481330.py:31: UserWarning: Using a target size (torch.Size([256])) that is different to the input size (torch.Size([256, 1])). This will likely lead to incorrect results due to broadcasting. Please ensure they have the same size.\n",
      "  loss = F.mse_loss(out, y)\n",
      "/tmp/ipykernel_117315/3456481330.py:31: UserWarning: Using a target size (torch.Size([16])) that is different to the input size (torch.Size([16, 1])). This will likely lead to incorrect results due to broadcasting. Please ensure they have the same size.\n",
      "  loss = F.mse_loss(out, y)\n",
      "/tmp/ipykernel_117315/3456481330.py:42: UserWarning: Using a target size (torch.Size([104])) that is different to the input size (torch.Size([104, 1])). This will likely lead to incorrect results due to broadcasting. Please ensure they have the same size.\n",
      "  loss = F.mse_loss(out, y)\n",
      "\u001b[34m\u001b[1mwandb\u001b[0m: wandb version 0.12.14 is available!  To upgrade, please run:\n",
      "\u001b[34m\u001b[1mwandb\u001b[0m:  $ pip install wandb --upgrade\n"
     ]
    },
    {
     "data": {
      "text/html": [
       "\n",
       "                    Syncing run <strong><a href=\"https://wandb.ai/axect/NALU_PCA/runs/2kp2yrbp\" target=\"_blank\">fragrant-lion-16</a></strong> to <a href=\"https://wandb.ai/axect/NALU_PCA\" target=\"_blank\">Weights & Biases</a> (<a href=\"https://docs.wandb.com/integrations/jupyter.html\" target=\"_blank\">docs</a>).<br/>\n",
       "\n",
       "                "
      ],
      "text/plain": [
       "<IPython.core.display.HTML object>"
      ]
     },
     "metadata": {},
     "output_type": "display_data"
    },
    {
     "name": "stderr",
     "output_type": "stream",
     "text": [
      "/tmp/ipykernel_117315/3456481330.py:31: UserWarning: Using a target size (torch.Size([256])) that is different to the input size (torch.Size([256, 1])). This will likely lead to incorrect results due to broadcasting. Please ensure they have the same size.\n",
      "  loss = F.mse_loss(out, y)\n",
      "/tmp/ipykernel_117315/3456481330.py:31: UserWarning: Using a target size (torch.Size([16])) that is different to the input size (torch.Size([16, 1])). This will likely lead to incorrect results due to broadcasting. Please ensure they have the same size.\n",
      "  loss = F.mse_loss(out, y)\n",
      "/tmp/ipykernel_117315/3456481330.py:42: UserWarning: Using a target size (torch.Size([128])) that is different to the input size (torch.Size([128, 1])). This will likely lead to incorrect results due to broadcasting. Please ensure they have the same size.\n",
      "  loss = F.mse_loss(out, y)\n",
      "/tmp/ipykernel_117315/3456481330.py:42: UserWarning: Using a target size (torch.Size([104])) that is different to the input size (torch.Size([104, 1])). This will likely lead to incorrect results due to broadcasting. Please ensure they have the same size.\n",
      "  loss = F.mse_loss(out, y)\n"
     ]
    }
   ],
   "source": [
    "trainer.fit(model)"
   ]
  },
  {
   "cell_type": "code",
   "execution_count": 29,
   "id": "957078fd",
   "metadata": {},
   "outputs": [
    {
     "data": {
      "text/html": [
       "<br/>Waiting for W&B process to finish, PID 125198... <strong style=\"color:green\">(success).</strong>"
      ],
      "text/plain": [
       "<IPython.core.display.HTML object>"
      ]
     },
     "metadata": {},
     "output_type": "display_data"
    },
    {
     "data": {
      "application/vnd.jupyter.widget-view+json": {
       "model_id": "",
       "version_major": 2,
       "version_minor": 0
      },
      "text/plain": [
       "VBox(children=(Label(value=' 0.00MB of 0.00MB uploaded (0.00MB deduped)\\r'), FloatProgress(value=1.0, max=1.0)…"
      ]
     },
     "metadata": {},
     "output_type": "display_data"
    },
    {
     "data": {
      "text/html": [
       "<style>\n",
       "    table.wandb td:nth-child(1) { padding: 0 10px; text-align: right }\n",
       "    .wandb-row { display: flex; flex-direction: row; flex-wrap: wrap; width: 100% }\n",
       "    .wandb-col { display: flex; flex-direction: column; flex-basis: 100%; flex: 1; padding: 10px; }\n",
       "    </style>\n",
       "<div class=\"wandb-row\"><div class=\"wandb-col\">\n",
       "<h3>Run history:</h3><br/><table class=\"wandb\"><tr><td>epoch</td><td>▁▁▁▁▂▂▂▂▂▃▃▃▃▃▃▄▄▄▄▄▅▅▅▅▅▅▆▆▆▆▆▇▇▇▇▇▇███</td></tr><tr><td>train_loss</td><td>███████████████████████████████████████▁</td></tr><tr><td>train_mea</td><td>▇▇▇▇▇▇▇▇▇▇▇█▇▇▇▇█▇▇▇▇▇▇▇▇▇▇▇▇▇▇▇▇▇▇▇▇▇▇▁</td></tr><tr><td>trainer/global_step</td><td>▁▁▁▁▂▂▂▂▂▃▃▃▃▃▃▄▄▄▄▄▅▅▅▅▅▅▆▆▆▆▆▇▇▇▇▇▇███</td></tr><tr><td>val_loss</td><td>▂▁▁▁▁▁▁▁▁▁▃▁▂▃█▁▂▂▂▂▁▁▁▁▁▁▁▁▁▂▁▁▁▁▁▁▁▁▁▁</td></tr><tr><td>val_mea</td><td>▁▁▁▁▁▁▁▁▁▁▃▁▂▃█▁▁▁▁▁▁▁▁▁▁▁▁▁▁▁▁▁▁▁▁▁▁▁▁▁</td></tr></table><br/></div><div class=\"wandb-col\">\n",
       "<h3>Run summary:</h3><br/><table class=\"wandb\"><tr><td>epoch</td><td>199</td></tr><tr><td>train_loss</td><td>0.46938</td></tr><tr><td>train_mea</td><td>0.62022</td></tr><tr><td>trainer/global_step</td><td>7999</td></tr><tr><td>val_loss</td><td>0.83808</td></tr><tr><td>val_mea</td><td>0.72466</td></tr></table>\n",
       "</div></div>\n",
       "Synced 5 W&B file(s), 0 media file(s), 0 artifact file(s) and 0 other file(s)\n",
       "<br/>Synced <strong style=\"color:#cdcd00\">fragrant-lion-16</strong>: <a href=\"https://wandb.ai/axect/NALU_PCA/runs/2kp2yrbp\" target=\"_blank\">https://wandb.ai/axect/NALU_PCA/runs/2kp2yrbp</a><br/>\n",
       "Find logs at: <code>./wandb/run-20220416_001507-2kp2yrbp/logs</code><br/>\n"
      ],
      "text/plain": [
       "<IPython.core.display.HTML object>"
      ]
     },
     "metadata": {},
     "output_type": "display_data"
    }
   ],
   "source": [
    "wandb.finish()"
   ]
  },
  {
   "cell_type": "code",
   "execution_count": 30,
   "id": "8ee22787",
   "metadata": {},
   "outputs": [
    {
     "data": {
      "text/plain": [
       "Parameter containing:\n",
       "tensor([[-5.9468e-01,  5.2503e-01,  8.4526e-01, -6.5455e-01, -5.4809e-05],\n",
       "        [-3.3708e-01,  8.0540e-01,  1.1748e-01, -1.0082e+00, -2.6944e-01],\n",
       "        [-1.3375e-01,  2.7850e-01,  5.5430e-01,  3.2299e-01,  7.1952e-01]],\n",
       "       requires_grad=True)"
      ]
     },
     "execution_count": 30,
     "metadata": {},
     "output_type": "execute_result"
    }
   ],
   "source": [
    "model.W_hat"
   ]
  },
  {
   "cell_type": "code",
   "execution_count": 31,
   "id": "46b18aa9",
   "metadata": {},
   "outputs": [
    {
     "data": {
      "text/plain": [
       "Parameter containing:\n",
       "tensor([[ 0.4514, -0.2281,  0.2362,  0.7311, -0.6150],\n",
       "        [-0.0545,  1.1733, -0.8530,  0.8046, -0.1618],\n",
       "        [ 0.3106, -0.9981, -0.4327,  0.8649,  1.2519]], requires_grad=True)"
      ]
     },
     "execution_count": 31,
     "metadata": {},
     "output_type": "execute_result"
    }
   ],
   "source": [
    "model.M_hat"
   ]
  },
  {
   "cell_type": "code",
   "execution_count": 32,
   "id": "745cd557",
   "metadata": {},
   "outputs": [
    {
     "data": {
      "text/plain": [
       "tensor([[1.7373e-01, 1.0279e-01, 2.6495e-01, 2.2297e-01, 1.0542e-09],\n",
       "        [5.1332e-02, 3.3983e-01, 4.0866e-03, 4.0437e-01, 3.1817e-02],\n",
       "        [1.0200e-02, 1.9854e-02, 9.9848e-02, 6.8590e-02, 2.9566e-01]],\n",
       "       grad_fn=<MulBackward0>)"
      ]
     },
     "execution_count": 32,
     "metadata": {},
     "output_type": "execute_result"
    }
   ],
   "source": [
    "model.eval()\n",
    "\n",
    "torch.tanh(model.W_hat)**2 * torch.sigmoid(model.M_hat)"
   ]
  },
  {
   "cell_type": "code",
   "execution_count": 33,
   "id": "c6addd7f",
   "metadata": {},
   "outputs": [],
   "source": [
    "W = torch.tanh(model.W_hat)**2 * torch.sigmoid(model.M_hat)"
   ]
  },
  {
   "cell_type": "code",
   "execution_count": 34,
   "id": "30dbafd5",
   "metadata": {},
   "outputs": [],
   "source": [
    "# Remove dependencies\n",
    "for i in range(W.shape[1]):\n",
    "    # Find maximum\n",
    "    m = torch.max(W[:,i])\n",
    "    W[:,i][W[:,i] < m] = 0.0\n",
    "\n",
    "# Remove low order\n",
    "m = torch.max(W)\n",
    "W[W < m * 0.01] = 0.0\n",
    "\n",
    "# Make one\n",
    "W[W > 0.0] = 1.0"
   ]
  },
  {
   "cell_type": "code",
   "execution_count": 35,
   "id": "be6933b9",
   "metadata": {},
   "outputs": [
    {
     "data": {
      "text/plain": [
       "tensor([[1., 0., 1., 0., 0.],\n",
       "        [0., 1., 0., 1., 0.],\n",
       "        [0., 0., 0., 0., 1.]], grad_fn=<IndexPutBackward0>)"
      ]
     },
     "execution_count": 35,
     "metadata": {},
     "output_type": "execute_result"
    }
   ],
   "source": [
    "W"
   ]
  },
  {
   "cell_type": "code",
   "execution_count": 36,
   "id": "15fff3f4",
   "metadata": {},
   "outputs": [],
   "source": [
    "X, Y = ds_test[:]"
   ]
  },
  {
   "cell_type": "code",
   "execution_count": 37,
   "id": "0835c43d",
   "metadata": {},
   "outputs": [],
   "source": [
    "X_hat = F.linear(X, W)"
   ]
  },
  {
   "cell_type": "code",
   "execution_count": 38,
   "id": "81ee1a75",
   "metadata": {},
   "outputs": [],
   "source": [
    "X = X.detach().numpy()\n",
    "X_hat = X_hat.detach().numpy()\n",
    "Y = Y.detach().numpy()"
   ]
  },
  {
   "cell_type": "code",
   "execution_count": 39,
   "id": "a80ccacf",
   "metadata": {},
   "outputs": [],
   "source": [
    "np.savez(\"nac_complicated.npz\", X, X_hat, Y)"
   ]
  }
 ],
 "metadata": {
  "kernelspec": {
   "display_name": "Python 3 (ipykernel)",
   "language": "python",
   "name": "python3"
  },
  "language_info": {
   "codemirror_mode": {
    "name": "ipython",
    "version": 3
   },
   "file_extension": ".py",
   "mimetype": "text/x-python",
   "name": "python",
   "nbconvert_exporter": "python",
   "pygments_lexer": "ipython3",
   "version": "3.9.7"
  }
 },
 "nbformat": 4,
 "nbformat_minor": 5
}
